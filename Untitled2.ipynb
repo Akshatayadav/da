{
  "nbformat": 4,
  "nbformat_minor": 0,
  "metadata": {
    "colab": {
      "name": "Untitled2.ipynb",
      "provenance": [],
      "collapsed_sections": []
    },
    "kernelspec": {
      "name": "python3",
      "display_name": "Python 3"
    },
    "language_info": {
      "name": "python"
    }
  },
  "cells": [
    {
      "cell_type": "code",
      "execution_count": null,
      "metadata": {
        "id": "disaiRtFT_xM"
      },
      "outputs": [],
      "source": [
        "#1a\n",
        "import tensorflow as tf\n",
        "A=tf.constant([1,2,3,4,5,6],shape=[2,3])\n",
        "print(A)\n",
        "B=tf.constant([2,5,7,8,98,2],shape=[3,2])\n",
        "print(B)\n",
        "op=tf.matmul(A,B)\n",
        "print(op)"
      ]
    },
    {
      "cell_type": "code",
      "source": [
        ""
      ],
      "metadata": {
        "id": "BFRcIg1vFluQ"
      },
      "execution_count": null,
      "outputs": []
    },
    {
      "cell_type": "code",
      "source": [
        "#1b\n",
        "import tensorflow as tf\n",
        "A=tf.random.uniform([2,2],minval=2,maxval=9,dtype=tf.float32)\n",
        "print(\"A:\\n{}\\n\\n\".format(A))\n",
        "eigen_vector,eigen_values=tf.linalg.eigh(A)\n",
        "print(\"eigen vectors:\\n{}\\n\\n Eigen values:\\n{}\\n\".format(eigen_vector,eigen_values))"
      ],
      "metadata": {
        "id": "pQhVcqbtU69G"
      },
      "execution_count": null,
      "outputs": []
    },
    {
      "cell_type": "code",
      "source": [
        "#practical 2 xor\n",
        "import numpy as np\n",
        "from keras.layers import Dense\n",
        "from keras.models import Sequential\n",
        "model=Sequential()\n",
        "model.add(Dense(units=2,activation='relu',input_dim=2))\n",
        "model.add(Dense(units=1,activation='sigmoid'))\n",
        "model.compile(loss='binary_crossentropy',optimizer='adam',metrics=['accuracy'])\n",
        "print(model.summary())\n",
        "print(model.get_weights())\n",
        "X=np.array([[0.,0.],[0.,1.],[1.,0.],[1.,1.]])\n",
        "Y=np.array([0.,1.,1.,0])\n",
        "model.fit(X,Y,epochs=1000,batch_size=4)\n",
        "print(model.predict(X,batch_size=4))"
      ],
      "metadata": {
        "id": "k7GSa_b8XpYQ"
      },
      "execution_count": null,
      "outputs": []
    },
    {
      "cell_type": "code",
      "source": [
        "#classification task\n",
        "import numpy as np\n",
        "from keras.layers import Dense\n",
        "from keras.models import Sequential\n",
        "import pandas as pd\n",
        "dataset=pd.read_csv(\"/content/pima-indians-diabetes.csv\")\n",
        "dataset=dataset.values\n",
        "X=dataset[:,0:8]\n",
        "Y=dataset[:,8]\n",
        "model=Sequential()\n",
        "model.add(Dense(12,activation='relu',input_dim=8))\n",
        "model.add(Dense(8,activation='relu'))\n",
        "model.add(Dense(1,activation='sigmoid'))\n",
        "model.compile(loss='binary_crossentropy',optimizer='adam',metrics=['accuracy'])\n",
        "model.fit(X,Y, epochs=150,batch_size=10)\n",
        "accuracy=model.evaluate(X,Y)\n",
        "print('accuracy of the model is',(accuracy*100))\n",
        "prediction=model.predict(X)\n",
        "for i in range(5):\n",
        "  print(X[i].tolist,prediction[i],Y[i])"
      ],
      "metadata": {
        "id": "La3__h39azge"
      },
      "execution_count": null,
      "outputs": []
    },
    {
      "cell_type": "code",
      "source": [
        "#prac4\n",
        "!pip install sklearn,sci-kit learn\n",
        "from keras.layers import Dense\n",
        "from keras.models import Sequential\n",
        "from sklearn.datasets import make_blobs\n",
        "from sklearn.preprocessing import MinMaxScaler\n",
        "X,Y=make_blobs(n_samples=100,centers=2,n_features=2,random_state=1)\n",
        "scalar= MinMaxScaler()\n",
        "scalar.fit(X)\n",
        "X=scalar.transform(X)\n",
        "model=Sequential()\n",
        "model.add(Dense(4,activation='relu',input_dim=2))\n",
        "model.add(Dense(4,activation='relu'))\n",
        "model.add(Dense(1,activation='sigmoid'))\n",
        "model.compile(loss='binary_crossentropy',optimizer='adam')\n",
        "model.fit(X,Y, epochs=500)\n",
        "Xnew,Yreal=make_blobs(n_samples=3,centers=2,n_features=2,random_state=1)\n",
        "Xnew=scalar.transform(Xnew)\n",
        "Ynew=model.predict(Xnew)\n",
        "for i in range(len(Xnew)):\n",
        "  print(\"X:%s,Predicted=%s,Desired=%s\"%(Xnew[i],Ynew[i],Yreal[i]))\n"
      ],
      "metadata": {
        "id": "AaM2vDoMlGBs"
      },
      "execution_count": null,
      "outputs": []
    },
    {
      "cell_type": "code",
      "source": [
        "\n",
        "#prac4b\n",
        "!pip install sklearn,sci-kit learn\n",
        "from keras.layers import Dense\n",
        "from keras.models import Sequential\n",
        "from sklearn.datasets import make_blobs\n",
        "from sklearn.preprocessing import MinMaxScaler\n",
        "X,Y=make_blobs(n_samples=100,centers=2,n_features=2,random_state=1)\n",
        "scalar= MinMaxScaler()\n",
        "scalar.fit(X)\n",
        "X=scalar.transform(X)\n",
        "model=Sequential()\n",
        "model.add(Dense(4,activation='relu',input_dim=2))\n",
        "model.add(Dense(4,activation='relu'))\n",
        "model.add(Dense(1,activation='sigmoid'))\n",
        "model.compile(loss='binary_crossentropy',optimizer='adam')\n",
        "model.fit(X,Y, epochs=500)\n",
        "Xnew,Yreal=make_blobs(n_samples=3,centers=2,n_features=2,random_state=1)\n",
        "Xnew=scalar.transform(Xnew)\n",
        "Yclass=(model.predict(Xnew))\n",
        "Ynew=(model.predict(Xnew))\n",
        "for i in range(len(Xnew)):\n",
        "  print(\"X:%s,Predicted_probability=%s,Predicted class=%s\"%(Xnew[i],Ynew[i],Yclass[i]))"
      ],
      "metadata": {
        "id": "zj0zjJsl2W28"
      },
      "execution_count": null,
      "outputs": []
    },
    {
      "cell_type": "code",
      "source": [
        ""
      ],
      "metadata": {
        "id": "fcTBF75cXgg6"
      },
      "execution_count": null,
      "outputs": []
    },
    {
      "cell_type": "code",
      "source": [
        "#4c\n",
        "from keras.models import Sequential\n",
        "from keras.layers import Dense\n",
        "from sklearn.datasets import make_regression\n",
        "from sklearn.preprocessing import MinMaxScaler\n",
        "X,Y=make_regression(n_samples=100,n_features=2,noise=0.1,random_state=1)\n",
        "scalarX,scalarY=MinMaxScaler(),MinMaxScaler()\n",
        "scalarX.fit(X)\n",
        "scalarY.fit(Y.reshape(100,1))\n",
        "X=scalarX.transform(X)\n",
        "Y=scalarY.transform(Y.reshape(100,1))\n",
        "model=Sequential()\n",
        "model.add(Dense(4,input_dim=2,activation='relu'))\n",
        "model.add(Dense(4,activation='relu'))\n",
        "model.add(Dense(1,activation='sigmoid'))\n",
        "model.compile(loss='mse',optimizer='adam')\n",
        "model.fit(X,Y,epochs=1000,verbose=0)\n",
        "Xnew,a=make_regression(n_samples=3,n_features=2,noise=0.1,random_state=1)\n",
        "Xnew=scalarX.transform(Xnew)\n",
        "Ynew=model.predict(Xnew)\n",
        "for i in range(len(Xnew)):\n",
        "  print(\"X:%s,Predicted=%s\"%(Xnew[i],Ynew[i]))"
      ],
      "metadata": {
        "id": "Dnityjgo8Gxv"
      },
      "execution_count": null,
      "outputs": []
    },
    {
      "cell_type": "code",
      "source": [
        "#prax5a regression kfold cross validation\n",
        "import pandas as pd\n",
        "from keras.models import Sequential\n",
        "from keras.layers import Dense\n",
        "from keras.wrappers.scikit_learn import KerasRegressor\n",
        "from sklearn.model_selection import cross_val_score\n",
        "from sklearn.model_selection import KFold\n",
        "from sklearn.preprocessing import StandardScaler\n",
        "from sklearn.pipeline import Pipeline\n",
        "dataframe=pd.read_csv(\"/content/Boston.csv\")\n",
        "dataset=dataframe.values\n",
        "X=dataset[:,0:13]\n",
        "Y=dataset[:,13]\n",
        "def wider_model():\n",
        "  model=Sequential()\n",
        "  model.add(Dense(15,input_dim=13,kernel_initializer='normal',activation='relu'))\n",
        "  model.add(Dense(13,kernel_initializer='normal',activation='relu'))\n",
        "  model.add(Dense(1,kernel_initializer='normal'))\n",
        "  model.compile(loss='mse',optimizer='adam')\n",
        "  return model\n",
        "estimators=[]\n",
        "estimators.append(('standardize',StandardScaler()))\n",
        "estimators.append(('mlp',KerasRegressor(build_fn=wider_model,epochs=100,batch_size=5)))\n",
        "pipeline=Pipeline(estimators)\n",
        "kfold=KFold(n_splits=10)\n",
        "results=cross_val_score(pipeline,X,Y,cv=kfold)\n",
        "print(\"Wider:%2f(%2f)MSE\"%(results.mean(),results.std()))\n",
        "\n",
        "#model.add(Dense(15,input_dim=13,kernel_initializer='normal',activation='relu'))"
      ],
      "metadata": {
        "id": "aiuiIKlWFobn"
      },
      "execution_count": null,
      "outputs": []
    },
    {
      "cell_type": "code",
      "source": [
        "#5b multiclass kfold\n",
        "from keras.layers import Dense\n",
        "from keras.models import Sequential\n",
        "from keras.wrappers.scikit_learn import KerasClassifier\n",
        "from sklearn.preprocessing import LabelEncoder\n",
        "from sklearn.model_selection import cross_val_score\n",
        "from sklearn.model_selection import KFold\n",
        "from keras.utils import np_utils\n",
        "import pandas as pd\n",
        "df=pd.read_csv(\"/content/flowers.csv\")\n",
        "iloc=df.values\n",
        "X=iloc[:,0:4].astype(float)\n",
        "y=iloc[:,4]\n",
        "encoder=LabelEncoder()\n",
        "encoder.fit(y)\n",
        "encoded_y=encoder.transform(y)\n",
        "print(encoded_y)\n",
        "dummy_Y=np_utils.to_categorical(encoded_y)\n",
        "print(dummy_Y)\n",
        "def baseline_model():\n",
        "  model=Sequential()\n",
        "  model.add(Dense(8,input_dim=4,activation='relu'))\n",
        "  model.add(Dense(3,activation='softmax'))\n",
        "  model.compile(loss='categorical_crossentropy',optimizer='adam')\n",
        "  return model\n",
        "estimator=baseline_model()\n",
        "estimator.fit(X,dummy_Y,epochs=100,shuffle=True)\n",
        "action=estimator.predict(X)\n",
        "for i in range(25):\n",
        "  print(dummy_Y[i])\n",
        "print(\"ffffffffffffffffffffffffffffffffffffff\")\n",
        "for i in range(25):\n",
        "  print(action[i])"
      ],
      "metadata": {
        "id": "GSFT6S43Y5Lt"
      },
      "execution_count": null,
      "outputs": []
    },
    {
      "cell_type": "code",
      "source": [
        "#6 regularization\n",
        "from matplotlib import pyplot\n",
        "from sklearn.datasets import make_moons\n",
        "from keras.models import Sequential\n",
        "from keras.layers import Dense\n",
        "X,Y=make_moons(n_samples=100,noise=0.2,random_state=1)\n",
        "n_train=30\n",
        "trainX,testX=X[:n_train,:],X[n_train:]\n",
        "trainY,testY=Y[:n_train],Y[n_train:]\n",
        "model=Sequential()\n",
        "model.add(Dense(500,input_dim=2,activation='relu'))\n",
        "model.add(Dense(1,activation='sigmoid'))\n",
        "model.compile(loss='binary_crossentropy',optimizer='adam',metrics=['accuracy'])\n",
        "history=model.fit(trainX,trainY,validation_data=(testX,testY),epochs=4000)\n",
        "pyplot.plot(history.history['accuracy'],label='train')\n",
        "pyplot.plot(history.history['val_accuracy'],label='test')\n",
        "pyplot.legend()\n",
        "pyplot.show()\n",
        "\n"
      ],
      "metadata": {
        "id": "Ur6dRAyDdjIL"
      },
      "execution_count": null,
      "outputs": []
    },
    {
      "cell_type": "code",
      "source": [
        "#6b\n",
        "from matplotlib import pyplot\n",
        "from sklearn.datasets import make_moons\n",
        "from keras.models import Sequential\n",
        "from keras.layers import Dense\n",
        "from keras.regularizers import l2\n",
        "X,Y=make_moons(n_samples=100,noise=0.2,random_state=1)\n",
        "n_train=30\n",
        "trainX,testX=X[:n_train,:],X[n_train:]\n",
        "trainY,testY=Y[:n_train],Y[n_train:]\n",
        "model=Sequential()\n",
        "model.add(Dense(500,input_dim=2,activation='relu', kernel_regularizer=l2(0.001)))\n",
        "model.add(Dense(1,activation='sigmoid'))\n",
        "model.compile(loss='binary_crossentropy',optimizer='adam',metrics=['accuracy'])\n",
        "history=model.fit(trainX,trainY,validation_data=(testX,testY),epochs=4000)\n",
        "pyplot.plot(history.history['accuracy'],label='train')\n",
        "pyplot.plot(history.history['val_accuracy'],label='test')\n",
        "pyplot.legend()\n",
        "pyplot.show()\n"
      ],
      "metadata": {
        "id": "pJU31l9rbIwd"
      },
      "execution_count": null,
      "outputs": []
    },
    {
      "cell_type": "code",
      "source": [
        "#6c\n",
        "from matplotlib import pyplot\n",
        "from sklearn.datasets import make_moons\n",
        "from keras.models import Sequential\n",
        "from keras.layers import Dense\n",
        "from keras.regularizers import l1_l2\n",
        "X,Y=make_moons(n_samples=100,noise=0.2,random_state=1)\n",
        "n_train=30\n",
        "trainX,testX=X[:n_train,:],X[n_train:]\n",
        "trainY,testY=Y[:n_train],Y[n_train:]\n",
        "model=Sequential()\n",
        "model.add(Dense(500,input_dim=2,activation='relu', kernel_regularizer=l1_l2(l1=0.001,l2=0.001)))\n",
        "model.add(Dense(1,activation='sigmoid'))\n",
        "model.compile(loss='binary_crossentropy',optimizer='adam',metrics=['accuracy'])\n",
        "history=model.fit(trainX,trainY,validation_data=(testX,testY),epochs=4000)\n",
        "pyplot.plot(history.history['accuracy'],label='train')\n",
        "pyplot.plot(history.history['val_accuracy'],label='test')\n",
        "pyplot.legend()\n",
        "pyplot.show()"
      ],
      "metadata": {
        "id": "EtvjZlUsvSf4"
      },
      "execution_count": null,
      "outputs": []
    },
    {
      "cell_type": "code",
      "source": [
        "#9 numbers from number images\n",
        "from keras.datasets import mnist\n",
        "from keras.models import sequential\n",
        "from keras.layers import Dense,Conv2D,Flatten\n",
        "import matplotlib.pyplot as plt\n",
        "from keras.utils import np_utils\n",
        "\n",
        "\n",
        "(X_train,Y_train),(X_test,Y_test)=mnist.load_data()\n",
        "plt.imshow(X_train[0])\n",
        "plt.show()\n",
        "print(X_train[0].shape)\n",
        "X_train=X_train.reshape(60000,28,28,1)\n",
        "X_test=X_test.reshape(10000,28,28,1)\n",
        "Y_train=np_utils.to_categorical(Y_train)\n",
        "Y_test=np_utils.to_categorical(Y_test)\n",
        "print(Y_train[0])\n",
        "model=Sequential()\n",
        "model.add(Conv2D(64,kernel_size=3,activation='relu',input_shape=(28,28,1)))\n",
        "model.add(Conv2D(32,kernel_size=3,activation='relu'))\n",
        "model.add(Flatten())\n",
        "model.add(Dense(10,activation='softmax'))\n",
        "model.compile(optimizer='adam',loss='categorical_crossentropy',metrics=['accuracy'])\n",
        "model.fit(X_train,Y_train,validation_data=(X_test,Y_test),epochs=3)\n",
        "print(model.predict(X_test[:4]))\n",
        "print(Y_test[:4])"
      ],
      "metadata": {
        "colab": {
          "base_uri": "https://localhost:8080/",
          "height": 612
        },
        "id": "9WpWR287vyts",
        "outputId": "892973ba-4a2d-47ff-8a64-643a908c1353"
      },
      "execution_count": null,
      "outputs": [
        {
          "output_type": "display_data",
          "data": {
            "text/plain": [
              "<Figure size 432x288 with 1 Axes>"
            ],
            "image/png": "[encoded data removed]"
          },
          "metadata": {
            "needs_background": "light"
          }
        },
        {
          "output_type": "stream",
          "name": "stdout",
          "text": [
            "(28, 28)\n",
            "[0. 0. 0. 0. 0. 1. 0. 0. 0. 0.]\n",
            "Epoch 1/3\n",
            "1875/1875 [==============================] - 194s 103ms/step - loss: 0.2775 - accuracy: 0.9512 - val_loss: 0.0848 - val_accuracy: 0.9733\n",
            "Epoch 2/3\n",
            "1875/1875 [==============================] - 187s 100ms/step - loss: 0.0768 - accuracy: 0.9771 - val_loss: 0.0933 - val_accuracy: 0.9721\n",
            "Epoch 3/3\n",
            "1875/1875 [==============================] - 257s 137ms/step - loss: 0.0506 - accuracy: 0.9843 - val_loss: 0.1095 - val_accuracy: 0.9753\n",
            "[[6.0832269e-13 3.3454539e-17 6.3300309e-10 2.5262612e-08 1.2620921e-19\n",
            "  5.9722520e-16 1.6881806e-22 1.0000000e+00 2.0441433e-12 1.3343669e-13]\n",
            " [2.5030814e-11 1.6047750e-09 1.0000000e+00 6.5398211e-09 1.2932327e-11\n",
            "  8.1737846e-17 1.5528431e-09 9.5408794e-13 3.1436770e-08 1.2081355e-17]\n",
            " [3.8491143e-07 9.9999011e-01 8.9172039e-07 5.2695963e-09 1.9906927e-06\n",
            "  5.3690331e-07 7.3021447e-08 9.7315189e-10 5.9384370e-06 2.8805242e-10]\n",
            " [1.0000000e+00 2.1578473e-16 3.3634354e-08 1.4162762e-13 4.5921386e-14\n",
            "  1.3861242e-11 1.4049595e-10 1.3468693e-15 3.1446934e-10 9.4599732e-09]]\n",
            "[[0. 0. 0. 0. 0. 0. 0. 1. 0. 0.]\n",
            " [0. 0. 1. 0. 0. 0. 0. 0. 0. 0.]\n",
            " [0. 1. 0. 0. 0. 0. 0. 0. 0. 0.]\n",
            " [1. 0. 0. 0. 0. 0. 0. 0. 0. 0.]]\n"
          ]
        }
      ]
    },
    {
      "cell_type": "code",
      "source": [
        ""
      ],
      "metadata": {
        "id": "CQ_SwZrOhZ56"
      },
      "execution_count": null,
      "outputs": []
    },
    {
      "cell_type": "code",
      "source": [
        "#7\n",
        "import numpy as np\n",
        "import matplotlib.pyplot as plt\n",
        "import pandas as pd\n",
        "from keras.models import Sequential\n",
        "from keras.layers import Dense\n",
        "from keras.layers import LSTM\n",
        "from keras.layers import Dropout\n",
        "from sklearn.preprocessing import MinMaxScaler\n",
        "dataset_train=pd.read_csv('/content/Google_Stock_Price_Test.csv')\n",
        "#print(dataset_train)\n",
        "print(dataset_train.shape)\n",
        "training_set=dataset_train.iloc[:,1:2].values\n",
        "#print(training_set)\n",
        "sc=MinMaxScaler(feature_range=(0,1))\n",
        "training_set_scaled=sc.fit_transform(training_set)\n",
        "#print(training_set_scaled)\n",
        "X_train=[]\n",
        "Y_train=[]\n",
        "for i in range(60,1258):\n",
        "  X_train.append(training_set_scaled[i-19:i,0])\n",
        "  Y_train.append(training_set_scaled[i,0])\n",
        "X_train,Y_train=np.array(X_train),np.array(Y_train)\n",
        "print(X_train)\n",
        "print('*********************************************')\n",
        "print(Y_train)\n",
        "X_train=np.reshape(X_train,(X_train.shape[0],X_train.shape[1],1))\n",
        "print('**********************************************')\n",
        "print(X_train)\n",
        "regressor=Sequential()\n",
        "regressor.add(LSTM(units=50,return_sequences=True,input_shape=(X_train.shape[1],\n",
        "1)))\n",
        "regressor.add(Dropout(0.2))\n",
        "regressor.add(LSTM(units=50,return_sequences=True))\n",
        "regressor.add(Dropout(0.2))\n",
        "regressor.add(LSTM(units=50,return_sequences=True))\n",
        "regressor.add(Dropout(0.2))\n",
        "regressor.add(LSTM(units=50))\n",
        "regressor.add(Dropout(0.2))\n",
        "regressor.add(Dense(units=1))\n",
        "regressor.compile(optimizer='adam',loss='mean_squared_error')\n",
        "regressor.fit(X_train,Y_train,epochs=100,batch_size=32)\n",
        "dataset_test=pd.read_csv('/content/Google_Stock_Price_Test.csv')\n",
        "real_stock_price=dataset_test.iloc[:,1:2].values\n",
        "dataset_total=pd.concat((dataset_train['Open'],dataset_test['Open']),axis=0)\n",
        "inputs=dataset_total[len(dataset_total)-len(dataset_test)-60:].values\n",
        "inputs=inputs.reshape(-1,1)\n",
        "inputs=sc.transform(inputs)\n",
        "X_test=[]\n",
        "for i in range(20,80):\n",
        "  X_test.append(inputs[i-20:i,0])\n",
        "X_test=np.array(X_test)\n",
        "X_test=np.reshape(X_test,(X_test.shape[0],X_test.shape[1],1))\n",
        "predicted_stock_price=regressor.predict(X_test)\n",
        "predicted_stock_price=sc.inverse_transform(predicted_stock_price)\n",
        "plt.plot(real_stock_price,color='red',label='real google stock price')\n",
        "plt.plot(predicted_stock_price,color='blue',label='predicted stock price')\n",
        "plt.xlabel('time')\n",
        "plt.ylabel('google stock price')\n",
        "plt.legend()\n"
      ],
      "metadata": {
        "id": "01xo5fNG5MOS"
      },
      "execution_count": null,
      "outputs": []
    },
    {
      "cell_type": "code",
      "source": [
        "#prax 8 encoding decoding\n",
        "import keras\n",
        "from keras import layers\n",
        "from keras.datasets import mnist\n",
        "import numpy as np\n",
        "encoding_dim=32\n",
        "input_img=keras.Input(shape=(784,))\n",
        "encoded=layers.Dense(encoding_dim,activation='relu')(input_img)\n",
        "decoded=layers.Dense(784,activation='sigmoid')(encoded)\n",
        "autoencoder=keras.Model(input_img,decoded)\n",
        "encoder=keras.Model(input_img,encoded)\n",
        "encoded_input=keras.Input(shape=encoding_dim,)\n",
        "decoder_layer=autoencoder.layers[-1]\n",
        "decoder=keras.Model(encoded_input,decoder_layer(encoded_input))\n",
        "autoencoder.compile(optimizer='adam',loss='binary_crossentropy')\n",
        "(X_train,_),(X_test,_)=mnist.load_data()\n",
        "X_train=X_train.astype('float32')/255\n",
        "X_test=X_test.astype('float32')/255\n",
        "X_train=X_train.reshape((len(X_train),np.prod(X_train.shape[1:])))\n",
        "X_test=X_test.reshape((len(X_test),np.prod(X_test.shape[1:])))\n",
        "print(X_train.shape)\n",
        "print(X_test.shape)\n",
        "\n",
        "autoencoder.fit(X_train,X_train,epochs=50,batch_size=256,shuffle=True,validation_data=(X_test,X_test))\n",
        "encoded_imgs=encoder.predict(X_test)\n",
        "decoded_imgs=decoder.predict(encoded_imgs)\n",
        "\n",
        "import matplotlib.pyplot as plt\n",
        "n=10\n",
        "plt.figure(figsize=(40,4))\n",
        "for i in range(10):\n",
        "  ax=plt.subplot(3,20,i+1)\n",
        "  plt.imshow(X_test[i].reshape(28,28))\n",
        "  plt.gray()\n",
        "  ax.get_xaxis().set_visible(False)\n",
        "  ax.get_yaxis().set_visible(False)\n",
        "\n",
        "  ax=plt.subplot(3,20,i+1+20)\n",
        "  plt.imshow(encoded_imgs[i].reshape(8,4))\n",
        "  plt.gray()\n",
        "  ax.get_xaxis().set_visible(False)\n",
        "  ax.get_yaxis().set_visible(False)\n",
        "\n",
        "  ax=plt.subplot(3,20,2*20+i+1)\n",
        "  plt.imshow(decoded_imgs[i].reshape(28,28))\n",
        "  plt.gray()\n",
        "  ax.get_xaxis().set_visible(False)\n",
        "  ax.get_yaxis().set_visible(False)\n",
        "\n",
        "plt.show()"
      ],
      "metadata": {
        "id": "0FqwfZU_281p"
      },
      "execution_count": null,
      "outputs": []
    },
    {
      "cell_type": "code",
      "source": [
        "#prac10 denoising\n",
        "import keras\n",
        "from keras.datasets import mnist\n",
        "from keras import layers\n",
        "import numpy as np\n",
        "from keras.callbacks import TensorBoard\n",
        "import matplotlib.pyplot as plt\n",
        "(X_train,_),(X_test,_)=mnist.load_data()\n",
        "X_train=X_train.astype('float32')/255.\n",
        "X_test=X_test.astype('float32')/255.\n",
        "X_train=np.reshape(X_train,(len(X_train),28,28,1))\n",
        "X_test=np.reshape(X_test,(len(X_test),28,28,1))\n",
        "noise_factor=0.5\n",
        "X_train_noisy=X_train+noise_factor*np.random.normal(loc=0.0,scale=1.0,size=X_train.shape)\n",
        "X_test_noisy=X_test+noise_factor*np.random.normal(loc=0.0,scale=1.0,size=X_test.shape)\n",
        "X_train_noisy=np.clip(X_train_noisy,0.,1.)\n",
        "X_test_noisy=np.clip(X_test_noisy,0.,1.)\n",
        "n=10\n",
        "plt.figure(figsize=(20,2))\n",
        "for i in range(1,n+1):\n",
        "  ax=plt.subplot(1,n,i)\n",
        "  plt.imshow(X_test_noisy[i].reshape(28,28))\n",
        "  plt.gray()\n",
        "  ax.get_xaxis().set_visible(False)\n",
        "  ax.get_yaxis().set_visible(False)\n",
        "plt.show()\n",
        "input_img=keras.Input(shape=(28,28,1))\n",
        "x=layers.Conv2D(32,(3,3),activation='relu',padding='same')(input_img)\n",
        "x=layers.MaxPooling2D((2,2),padding='same')(x)\n",
        "x=layers.Conv2D(32,(3,3),activation='relu',padding='same')(x)\n",
        "encoded=layers.MaxPooling2D((2,2),padding='same')(x)\n",
        "x=layers.Conv2D(32,(3,3),activation='relu',padding='same')(encoded)\n",
        "x=layers.UpSampling2D((2,2))(x)\n",
        "x=layers.Conv2D(32,(3,3),activation='relu',padding='same')(x)\n",
        "x=layers.UpSampling2D((2,2))(x)\n",
        "decoded=layers.Conv2D(1,(3,3),activation='sigmoid',padding='same')(x)\n",
        "autoencoder=keras.Model(input_img,decoded)\n",
        "autoencoder.compile(optimizer='adam',loss='binary_crossentropy')\n",
        "autoencoder.fit(X_train_noisy,X_train,\n",
        "epochs=3,\n",
        "batch_size=128,\n",
        "shuffle=True,\n",
        "validation_data=(X_test_noisy,X_test),\n",
        "callbacks=[TensorBoard(log_dir='/tmo/tb',histogram_freq=0,write_graph=False)])\n",
        "predictions=autoencoder.predict(X_test_noisy)\n",
        "m=10\n",
        "plt.figure(figsize=(20,2))\n",
        "for i in range(1,m+1):\n",
        "  ax=plt.subplot(1,m,i)\n",
        "  plt.imshow(predictions[i].reshape(28,28))\n",
        "  plt.gray()\n",
        "  ax.get_xaxis().set_visible(False)\n",
        "  ax.get_yaxis().set_visible(False)\n",
        "plt.show()"
      ],
      "metadata": {
        "colab": {
          "base_uri": "https://localhost:8080/",
          "height": 341
        },
        "id": "ttCMWNVfiB9h",
        "outputId": "fc5c6f3f-131e-426a-fc0e-3af37757a64c"
      },
      "execution_count": 6,
      "outputs": [
        {
          "output_type": "display_data",
          "data": {
            "text/plain": [
              "<Figure size 1440x144 with 10 Axes>"
            ],
            "image/png": "[encoded data removed]"
          },
          "metadata": {
            "needs_background": "light"
          }
        },
        {
          "output_type": "stream",
          "name": "stdout",
          "text": [
            "Epoch 1/3\n",
            "469/469 [==============================] - 162s 345ms/step - loss: 0.1608 - val_loss: 0.1157\n",
            "Epoch 2/3\n",
            "469/469 [==============================] - 161s 343ms/step - loss: 0.1123 - val_loss: 0.1079\n",
            "Epoch 3/3\n",
            "469/469 [==============================] - 145s 309ms/step - loss: 0.1070 - val_loss: 0.1046\n"
          ]
        },
        {
          "output_type": "display_data",
          "data": {
            "text/plain": [
              "<Figure size 1440x144 with 10 Axes>"
            ],
            "image/png": "[encoded data removed]"
          },
          "metadata": {
            "needs_background": "light"
          }
        }
      ]
    }
  ]
}